{
 "cells": [
  {
   "cell_type": "markdown",
   "id": "9ef2baf8-85a7-4261-a619-e095ae9860cc",
   "metadata": {},
   "source": [
    "### exercice 1:"
   ]
  },
  {
   "cell_type": "markdown",
   "id": "112619ce-3751-44e3-9e66-80ca73232f02",
   "metadata": {},
   "source": [
    "Ecrire un programme qui calcule et affiche la somme des entiers successifs de 1 jusqu’à un entier N donné par\n",
    "l’utilisateur."
   ]
  },
  {
   "cell_type": "code",
   "execution_count": 19,
   "id": "86083047-daf3-45bb-8044-c607eb8237eb",
   "metadata": {},
   "outputs": [
    {
     "name": "stdout",
     "output_type": "stream",
     "text": [
      "donner un entier 4\n"
     ]
    },
    {
     "name": "stdout",
     "output_type": "stream",
     "text": [
      "la somme est:  10\n"
     ]
    }
   ],
   "source": [
    "n=int(input(\"donner un entier\"))\n",
    "s=0\n",
    "for i in range(1,n+1):\n",
    "    s=s+i\n",
    "print(\"la somme est: \",s)"
   ]
  },
  {
   "cell_type": "markdown",
   "id": "64c29b6d-66f6-4443-a245-2bf7f981f04e",
   "metadata": {},
   "source": [
    "## exercice 2:"
   ]
  },
  {
   "cell_type": "markdown",
   "id": "a761b84b-ec5c-40e6-a636-e2fd5e38f825",
   "metadata": {},
   "source": [
    "Ecrire un programme qui permet de calculer l’inverse d’un nombre entier saisie au clavier. Si l’utilisateur\n",
    "saisie la valeur 0 on lui demande une autre fois de saisir un entier jusqu'à obtenir un entier non nul, et puis on\n",
    "affiche son inverse."
   ]
  },
  {
   "cell_type": "code",
   "execution_count": 24,
   "id": "6df023c7-8210-4ea7-8557-73d3516e0e49",
   "metadata": {},
   "outputs": [
    {
     "name": "stdout",
     "output_type": "stream",
     "text": [
      "donner un nombre entier different de 0: 0\n",
      "donner un nombre entier different de 0: 5\n"
     ]
    },
    {
     "name": "stdout",
     "output_type": "stream",
     "text": [
      "l'inverse de 5 est : 0.2\n"
     ]
    }
   ],
   "source": [
    "n=int(input(\"donner un nombre entier\"))\n",
    "n=0\n",
    "while (n==0):\n",
    "      n=int(input(\"donner un nombre entier different de 0:\"))\n",
    "invers=1/n\n",
    "print(f\"l'inverse de {n} est : {invers}\")"
   ]
  },
  {
   "cell_type": "markdown",
   "id": "82124934-a3ac-4a4f-a8d4-44a6cdea9ba5",
   "metadata": {},
   "source": [
    "## Exercice 3:"
   ]
  },
  {
   "cell_type": "markdown",
   "id": "d3667962-9705-4076-ab6a-4e2bda30f48e",
   "metadata": {},
   "source": [
    "Écrire un programme permettant de calculer et afficher la moyenne d’une classe de N étudiants, sachant que le\n",
    "nombre d’étudiants N est saisi par l’utilisateur ainsi que les notes des étudiants."
   ]
  },
  {
   "cell_type": "code",
   "execution_count": 34,
   "id": "3a4528a9-c1d7-427e-befb-a8565ad85f73",
   "metadata": {},
   "outputs": [
    {
     "name": "stdout",
     "output_type": "stream",
     "text": [
      "donner le nombre d'étudiants 3\n",
      "entrer la note d'etudiant 1: 14\n",
      "entrer la note d'etudiant 2: 15\n",
      "entrer la note d'etudiant 3: 17\n"
     ]
    },
    {
     "name": "stdout",
     "output_type": "stream",
     "text": [
      "la moyenne est :15.33\n"
     ]
    }
   ],
   "source": [
    "N=int(input(\"donner le nombre d'étudiants\"))\n",
    "t_note=0\n",
    "for i in range(1,N+1):\n",
    "    note=float(input(f\"entrer la note d'etudiant {i}:\"))\n",
    "    t_note=t_note+note\n",
    "moy=t_note/N\n",
    "print(f\"la moyenne est :{moy:.2f}\")\n",
    "                     \n",
    "    \n"
   ]
  },
  {
   "cell_type": "markdown",
   "id": "838c3d98-ca5d-4dae-8ac2-5e1ae70aab2c",
   "metadata": {},
   "source": [
    "## exercice 4:"
   ]
  },
  {
   "cell_type": "markdown",
   "id": "a7cb9945-cb90-438d-baa7-535355d114ac",
   "metadata": {},
   "source": [
    "Ecrire un programme qui calcule et affiche le produit de deux entiers a et b donnés par l’utilisateur sans\n",
    "utiliser l’opérateur « * » (on utilise uniquement l’addition)."
   ]
  },
  {
   "cell_type": "code",
   "execution_count": 30,
   "id": "015f4f9f-0a4f-4ba3-88fb-0c3ff3e48b5f",
   "metadata": {},
   "outputs": [
    {
     "name": "stdout",
     "output_type": "stream",
     "text": [
      "enter un nbr entier 3\n",
      "enter un autre nbr entier 2\n"
     ]
    },
    {
     "name": "stdout",
     "output_type": "stream",
     "text": [
      "le produit de 3 et 2 avec l'addition est :6\n"
     ]
    }
   ],
   "source": [
    "a=int(input(\"enter un nbr entier\"))\n",
    "b=int(input(\"enter un autre nbr entier\"))\n",
    "s=0\n",
    "for i in range(b):\n",
    "    s=s+a\n",
    "print(f\"le produit de {a} et {b} avec l'addition est :{s}\")"
   ]
  },
  {
   "cell_type": "markdown",
   "id": "28ec5173-6e5b-45ca-b1b2-db749410b262",
   "metadata": {},
   "source": [
    "## exercice 5:"
   ]
  },
  {
   "cell_type": "markdown",
   "id": "4f3176c2-25c6-4a74-aba4-2248c537af93",
   "metadata": {},
   "source": [
    "Ecrire un programme qui demande à l'utilisateur de saisir un entier et puis cherche et affiche tous ces\n",
    "diviseurs."
   ]
  },
  {
   "cell_type": "code",
   "execution_count": null,
   "id": "63b16718-f85d-4e07-aeb3-e223b9f46635",
   "metadata": {},
   "outputs": [],
   "source": [
    "n=int(input(\"saisir un entier\"))\n",
    "print(\"les diviseurs de {n} sont :\")\n",
    "for i in range(1,n+1):\n",
    "    if(n%i==0):\n",
    "        print(i,end=\" \")"
   ]
  },
  {
   "cell_type": "markdown",
   "id": "1e1a9828-671b-4cc6-95c1-ab86dc4efb56",
   "metadata": {},
   "source": [
    "## exercice 6:"
   ]
  },
  {
   "cell_type": "markdown",
   "id": "c3345209-af50-4e4c-8556-fa7a58df0b93",
   "metadata": {},
   "source": [
    "1) Ecrire un programme qui demande un nombre entier à l’utilisateur, et affiche la table de multiplication de\n",
    "ce nombre, présentée comme suit : (cas où l'utilisateur entre le nombre 7) :"
   ]
  },
  {
   "cell_type": "code",
   "execution_count": 35,
   "id": "4eb1a640-17c9-4320-aa88-b7b83c9abe3d",
   "metadata": {},
   "outputs": [
    {
     "name": "stdout",
     "output_type": "stream",
     "text": [
      "entrer un nombre entier  7\n"
     ]
    },
    {
     "name": "stdout",
     "output_type": "stream",
     "text": [
      "7*1=7\n",
      "7*2=14\n",
      "7*3=21\n",
      "7*4=28\n",
      "7*5=35\n",
      "7*6=42\n",
      "7*7=49\n",
      "7*8=56\n",
      "7*9=63\n",
      "7*10=70\n"
     ]
    }
   ],
   "source": [
    "n=int(input(\"entrer un nombre entier \"))\n",
    "for i in range (1,11):\n",
    "    multp=n*i \n",
    "    print(f\"{n}*{i}={multp}\")"
   ]
  },
  {
   "cell_type": "markdown",
   "id": "93514998-2962-4845-a4db-d4cbef627d1e",
   "metadata": {},
   "source": [
    "2) Ecrire un programme qui permet d’afficher les 9 tables de multiplications pour les entiers de 1 à 9. Chaque\n",
    "table est affichée sur une ligne et comporte 10 éléments, sous la forme suivante :"
   ]
  },
  {
   "cell_type": "code",
   "execution_count": 57,
   "id": "02b9e89d-0385-42e3-8e64-31624ec8422d",
   "metadata": {},
   "outputs": [
    {
     "name": "stdout",
     "output_type": "stream",
     "text": [
      "1 2 3 4 5 6 7 8 9 10 \n",
      "2 4 6 8 10 12 14 16 18 20 \n",
      "3 6 9 12 15 18 21 24 27 30 \n",
      "4 8 12 16 20 24 28 32 36 40 \n",
      "5 10 15 20 25 30 35 40 45 50 \n",
      "6 12 18 24 30 36 42 48 54 60 \n",
      "7 14 21 28 35 42 49 56 63 70 \n",
      "8 16 24 32 40 48 56 64 72 80 \n",
      "9 18 27 36 45 54 63 72 81 90 \n"
     ]
    }
   ],
   "source": [
    "for i in range (1,10):\n",
    "    for j in range (1,11):\n",
    "        print(i*j,end=\" \")\n",
    "    print()\n",
    "   \n",
    "  "
   ]
  },
  {
   "cell_type": "markdown",
   "id": "6f342de5-5a8d-4da4-8599-a24163c8eeba",
   "metadata": {},
   "source": [
    "## exercice 7:"
   ]
  },
  {
   "cell_type": "markdown",
   "id": "67958531-3a9b-4b7a-b4e8-febcbce1d794",
   "metadata": {},
   "source": [
    "Ecrire un programme qui demande à l’utilisateur d’entrer à chaque fois un nombre réels jusqu'à ce qu’il entre\n",
    "la valeur 0. Le programme doit ensuite afficher le plus petit élément de la suite des nombres lus ainsi que leur\n",
    "somme."
   ]
  },
  {
   "cell_type": "code",
   "execution_count": 1,
   "id": "2525c97d-9f87-4491-a650-a0140f79b0a6",
   "metadata": {
    "scrolled": true
   },
   "outputs": [
    {
     "name": "stdout",
     "output_type": "stream",
     "text": [
      "entrer un nbr entier 4\n",
      "enter un nbr réels 7\n",
      "enter un nbr réels 8\n",
      "enter un nbr réels 0\n"
     ]
    },
    {
     "name": "stdout",
     "output_type": "stream",
     "text": [
      "min=  4\n",
      "la somme est : 19.0\n"
     ]
    }
   ],
   "source": [
    "n=int(input(\"entrer un nbr entier\"))\n",
    "s=0\n",
    "m=n\n",
    "while(n!=0):\n",
    "    s=s+n\n",
    "    n=float(input(\"enter un nbr réels\"))\n",
    "    if n==0:\n",
    "        break\n",
    "    \n",
    "    if (m>n):\n",
    "        m=n\n",
    "    \n",
    "print(\"min= \",m)\n",
    "print(\"la somme est :\",s)"
   ]
  },
  {
   "cell_type": "markdown",
   "id": "97a4e4c1-32ff-458b-8c06-3168abf9b8f8",
   "metadata": {},
   "source": [
    "## exercice 8:"
   ]
  },
  {
   "cell_type": "markdown",
   "id": "0a976f99-d774-437b-80f0-ef5a83f29a92",
   "metadata": {},
   "source": [
    "Ecrire un programme qui lit un entier positif N entré par l’utilisateur et qui affiche le nombre de chiffres qui le\n",
    "compose."
   ]
  },
  {
   "cell_type": "code",
   "execution_count": 7,
   "id": "83c535bf-780d-4bef-b02e-f2af670bb612",
   "metadata": {},
   "outputs": [
    {
     "name": "stdout",
     "output_type": "stream",
     "text": [
      "enter le nbr 25879\n"
     ]
    },
    {
     "name": "stdout",
     "output_type": "stream",
     "text": [
      "le nbr de chiffres est :  5\n"
     ]
    }
   ],
   "source": [
    "n=int(input(\"enter le nbr\"))\n",
    "if n>=0:\n",
    "    nb=len(str(n))\n",
    "    print(\"le nbr de chiffres est : \",nb)\n",
    "else:\n",
    "    print(\"donner un nobe positif\")"
   ]
  },
  {
   "cell_type": "code",
   "execution_count": 8,
   "id": "a9c0a657-5698-4504-a636-ef3dcd46746c",
   "metadata": {},
   "outputs": [
    {
     "name": "stdout",
     "output_type": "stream",
     "text": [
      "enter le nbr 147896325\n"
     ]
    },
    {
     "name": "stdout",
     "output_type": "stream",
     "text": [
      "le nombre de chiffres dans  147896325 est:  9\n"
     ]
    }
   ],
   "source": [
    "n=int(input(\"enter le nbr\"))\n",
    "n1=n\n",
    "COMP=0\n",
    "while(n!=0):\n",
    "    n=n//10\n",
    "    COMP=COMP+1\n",
    "print(\"le nombre de chiffres dans \",n1,\"est: \",COMP)\n",
    "    "
   ]
  },
  {
   "cell_type": "markdown",
   "id": "f8ed7945-87ae-47a7-b696-ea1a5403e204",
   "metadata": {},
   "source": [
    "## exercice 9:"
   ]
  },
  {
   "cell_type": "markdown",
   "id": "7bda0d91-94aa-4487-8ab5-c8f6baea044b",
   "metadata": {},
   "source": [
    "1) Ecrire un programme qui lit un nombre entier positif saisie par l’utilisateur et le convertit en binaire.\n"
   ]
  },
  {
   "cell_type": "code",
   "execution_count": 31,
   "id": "bb6a32e6-c1e2-427c-a4c7-69495eeb2543",
   "metadata": {},
   "outputs": [
    {
     "name": "stdout",
     "output_type": "stream",
     "text": [
      "entrer un nombre entier positif 14\n"
     ]
    },
    {
     "name": "stdout",
     "output_type": "stream",
     "text": [
      "le convertit en binaire;\n",
      "1110\n"
     ]
    }
   ],
   "source": [
    "n=int(input(\"entrer un nombre entier positif\"))\n",
    "print(\"le convertit en binaire;\")\n",
    "binaire=\"\"\n",
    "while(n!=0):\n",
    "    a=n%2\n",
    "    binaire=str(a)+binaire\n",
    "    n=n//2\n",
    "print(binaire)\n"
   ]
  },
  {
   "cell_type": "code",
   "execution_count": null,
   "id": "cc6a4331-67ab-4b09-9187-3faacc0b4307",
   "metadata": {},
   "outputs": [],
   "source": [
    "n=input(\"entrer un nombre entier positif\")\n",
    "print(\"le convertit en binaire;\")\n",
    "dicimal=\"\"\n",
    "while(n!=0):\n",
    "    a=n%2\n",
    "    binaire=str(a)+binaire\n",
    "    n=n//2\n",
    "print(binaire)"
   ]
  },
  {
   "cell_type": "markdown",
   "id": "d2cdb890-820e-43da-803a-40f9a13ffe37",
   "metadata": {},
   "source": [
    "2) Ecrire un programme qui lit un nombre binaire saisie par l’utilisateur sous forme d’un entier et le convertit\n",
    "en décimale."
   ]
  },
  {
   "cell_type": "code",
   "execution_count": 4,
   "id": "a9d4c31d-5369-47f7-9250-a38e7beacab2",
   "metadata": {},
   "outputs": [
    {
     "name": "stdout",
     "output_type": "stream",
     "text": [
      "entrer un nombre binaire 10\n"
     ]
    },
    {
     "name": "stdout",
     "output_type": "stream",
     "text": [
      "2\n"
     ]
    }
   ],
   "source": [
    "n=int(input(\"entrer un nombre binaire\"))\n",
    "i=0\n",
    "dcml=0\n",
    "st=str(n)\n",
    "st=st[::-1]\n",
    "while(n>0):\n",
    "    n=n//10\n",
    "    i=i+1\n",
    "for j in range(i):\n",
    "    dcml=dcml+(int(st[j])*(2**j))\n",
    "print(dcml)\n"
   ]
  },
  {
   "cell_type": "markdown",
   "id": "403d358d-2419-40cb-b0c2-61a43d11bf85",
   "metadata": {},
   "source": [
    "## exercice 10:"
   ]
  },
  {
   "cell_type": "code",
   "execution_count": 16,
   "id": "413bcfd7-bfcf-4c27-b0c6-b0a97093c267",
   "metadata": {},
   "outputs": [
    {
     "name": "stdout",
     "output_type": "stream",
     "text": [
      "J'ai choisi un entier entre 1 et 50 A vous de le deviner en 5 tentatives au maximum !\n"
     ]
    },
    {
     "name": "stdout",
     "output_type": "stream",
     "text": [
      " Essai no 1 : 24\n"
     ]
    },
    {
     "name": "stdout",
     "output_type": "stream",
     "text": [
      "Trop grand\n"
     ]
    },
    {
     "name": "stdout",
     "output_type": "stream",
     "text": [
      " Essai no 2 : 41\n"
     ]
    },
    {
     "name": "stdout",
     "output_type": "stream",
     "text": [
      "Trop grand\n"
     ]
    },
    {
     "name": "stdout",
     "output_type": "stream",
     "text": [
      " Essai no 3 : 10\n"
     ]
    },
    {
     "name": "stdout",
     "output_type": "stream",
     "text": [
      "Trop grand\n"
     ]
    },
    {
     "name": "stdout",
     "output_type": "stream",
     "text": [
      " Essai no 4 : 7\n"
     ]
    },
    {
     "name": "stdout",
     "output_type": "stream",
     "text": [
      "Bravo ! Vous avez trouvé 7 en 4 essais\n"
     ]
    }
   ],
   "source": [
    "import random\n",
    "monNombre = random.randint(1, 50)\n",
    "print(\"J'ai choisi un entier entre 1 et 50 A vous de le deviner en 5 tentatives au maximum !\")\n",
    "i=1\n",
    "n=-1\n",
    "while(i<=5):\n",
    "    n=int(input(f\" Essai no {i} :\"))\n",
    "    if(n<monNombre): \n",
    "          print(\"Trop petit\")\n",
    "    elif(n>monNombre):\n",
    "        print(\"Trop grand\")\n",
    "    else:\n",
    "        print(f\"Bravo ! Vous avez trouvé {n} en {i} essais\")\n",
    "        break\n",
    "    i=i+1\n",
    "    \n",
    "if n != monNombre:\n",
    "    print(f\"Désolé, vous avez épuisé vos tentatives. Le nombre était {monNombre}.\")          "
   ]
  }
 ],
 "metadata": {
  "kernelspec": {
   "display_name": "Python 3 (ipykernel)",
   "language": "python",
   "name": "python3"
  },
  "language_info": {
   "codemirror_mode": {
    "name": "ipython",
    "version": 3
   },
   "file_extension": ".py",
   "mimetype": "text/x-python",
   "name": "python",
   "nbconvert_exporter": "python",
   "pygments_lexer": "ipython3",
   "version": "3.12.7"
  }
 },
 "nbformat": 4,
 "nbformat_minor": 5
}
